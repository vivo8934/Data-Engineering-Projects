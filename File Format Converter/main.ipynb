{
 "cells": [
  {
   "cell_type": "code",
   "execution_count": 31,
   "metadata": {},
   "outputs": [],
   "source": [
    "import os\n",
    "import glob\n",
    "import json\n",
    "import pandas as pd"
   ]
  },
  {
   "cell_type": "code",
   "execution_count": 32,
   "metadata": {},
   "outputs": [],
   "source": [
    "def get_column_names(schemas, ds_name, sorting_key='column_position'):\n",
    "    column_details = schemas[ds_name]\n",
    "    columns = sorted(column_details, key=lambda col: col[sorting_key])\n",
    "    return [col['column_name'] for col in columns]"
   ]
  },
  {
   "cell_type": "code",
   "execution_count": 33,
   "metadata": {},
   "outputs": [],
   "source": [
    "def read_csv(file, schemas):\n",
    "    ds_name = os.path.basename(os.path.dirname(file))\n",
    "    columns = get_column_names(schemas, ds_name)\n",
    "    df = pd.read_csv(file, names=columns)\n",
    "    return df"
   ]
  },
  {
   "cell_type": "code",
   "execution_count": 34,
   "metadata": {},
   "outputs": [],
   "source": [
    "def to_json(df, tgt_base_dir, ds_name, file_name):\n",
    "    output_dir = os.path.join(tgt_base_dir, ds_name)\n",
    "    os.makedirs(output_dir, exist_ok=True)\n",
    "    output_file = os.path.join(output_dir, file_name.replace('.csv', '.json'))\n",
    "    df.to_json(output_file, orient='records', lines=True)"
   ]
  },
  {
   "cell_type": "code",
   "execution_count": 35,
   "metadata": {},
   "outputs": [],
   "source": [
    "def file_converter(src_base_dir,tgt_base_dir,ds_name):\n",
    "    #src_base_dir = 'data/retail_db'\n",
    "    #tgt_base_dir = 'data/retail_json'\n",
    "    schemas = json.load(open(f'{src_base_dir}/schemas.json'))\n",
    "    files = glob.glob(f'{src_base_dir}/{ds_name}/part-*')\n",
    "\n",
    "    for file in files:\n",
    "        try:\n",
    "            df = read_csv(file, schemas)\n",
    "            file_name = os.path.basename(file)\n",
    "            to_json(df, tgt_base_dir, ds_name, file_name)\n",
    "        except Exception as e:\n",
    "            print(f\"[ERROR] Failed to process {file}: {e}\")\n",
    "\n"
   ]
  },
  {
   "cell_type": "code",
   "execution_count": 42,
   "metadata": {},
   "outputs": [],
   "source": [
    "def process_files(ds_names=None):\n",
    "    src_base_dir = 'data/retail_db'\n",
    "    tgt_base_dir = 'data/retail_json'\n",
    "\n",
    "    schemas = json.load(open(f'{src_base_dir}/schemas.json'))\n",
    "    if not ds_names:\n",
    "        ds_name = schemas.keys()\n",
    "    for ds_name in ds_names:\n",
    "        print(f'Processing: {ds_name}')\n",
    "        file_converter(src_base_dir,tgt_base_dir,ds_name)\n",
    "    \n",
    "\n"
   ]
  },
  {
   "cell_type": "code",
   "execution_count": 43,
   "metadata": {},
   "outputs": [
    {
     "ename": "TypeError",
     "evalue": "'NoneType' object is not iterable",
     "output_type": "error",
     "traceback": [
      "\u001b[0;31m---------------------------------------------------------------------------\u001b[0m",
      "\u001b[0;31mTypeError\u001b[0m                                 Traceback (most recent call last)",
      "Cell \u001b[0;32mIn[43], line 1\u001b[0m\n\u001b[0;32m----> 1\u001b[0m \u001b[43mprocess_files\u001b[49m\u001b[43m(\u001b[49m\u001b[43m)\u001b[49m\n",
      "Cell \u001b[0;32mIn[42], line 8\u001b[0m, in \u001b[0;36mprocess_files\u001b[0;34m(ds_names)\u001b[0m\n\u001b[1;32m      6\u001b[0m \u001b[38;5;28;01mif\u001b[39;00m \u001b[38;5;129;01mnot\u001b[39;00m ds_names:\n\u001b[1;32m      7\u001b[0m     ds_name \u001b[38;5;241m=\u001b[39m schemas\u001b[38;5;241m.\u001b[39mkeys()\n\u001b[0;32m----> 8\u001b[0m \u001b[43m\u001b[49m\u001b[38;5;28;43;01mfor\u001b[39;49;00m\u001b[43m \u001b[49m\u001b[43mds_name\u001b[49m\u001b[43m \u001b[49m\u001b[38;5;129;43;01min\u001b[39;49;00m\u001b[43m \u001b[49m\u001b[43mds_names\u001b[49m\u001b[43m:\u001b[49m\n\u001b[1;32m      9\u001b[0m \u001b[43m    \u001b[49m\u001b[38;5;28;43mprint\u001b[39;49m\u001b[43m(\u001b[49m\u001b[38;5;124;43mf\u001b[39;49m\u001b[38;5;124;43m'\u001b[39;49m\u001b[38;5;124;43mProcessing: \u001b[39;49m\u001b[38;5;132;43;01m{\u001b[39;49;00m\u001b[43mds_name\u001b[49m\u001b[38;5;132;43;01m}\u001b[39;49;00m\u001b[38;5;124;43m'\u001b[39;49m\u001b[43m)\u001b[49m\n\u001b[1;32m     10\u001b[0m \u001b[43m    \u001b[49m\u001b[43mfile_converter\u001b[49m\u001b[43m(\u001b[49m\u001b[43msrc_base_dir\u001b[49m\u001b[43m,\u001b[49m\u001b[43mtgt_base_dir\u001b[49m\u001b[43m,\u001b[49m\u001b[43mds_name\u001b[49m\u001b[43m)\u001b[49m\n",
      "\u001b[0;31mTypeError\u001b[0m: 'NoneType' object is not iterable"
     ]
    }
   ],
   "source": [
    "process_files()"
   ]
  },
  {
   "cell_type": "code",
   "execution_count": null,
   "metadata": {},
   "outputs": [],
   "source": [
    "schemas = json.load(open('data/retail_db/schemas.json'))"
   ]
  },
  {
   "cell_type": "code",
   "execution_count": null,
   "metadata": {},
   "outputs": [],
   "source": [
    "schemas.keys()"
   ]
  }
 ],
 "metadata": {
  "kernelspec": {
   "display_name": "Python 3",
   "language": "python",
   "name": "python3"
  },
  "language_info": {
   "codemirror_mode": {
    "name": "ipython",
    "version": 3
   },
   "file_extension": ".py",
   "mimetype": "text/x-python",
   "name": "python",
   "nbconvert_exporter": "python",
   "pygments_lexer": "ipython3",
   "version": "3.12.1"
  }
 },
 "nbformat": 4,
 "nbformat_minor": 2
}
